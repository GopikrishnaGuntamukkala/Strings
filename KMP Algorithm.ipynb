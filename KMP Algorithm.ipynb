{
 "cells": [
  {
   "cell_type": "markdown",
   "id": "e1db948c",
   "metadata": {},
   "source": [
    "# Given a string of characters, find the length of the longest proper prefix which is also a proper suffix.\n",
    "\n",
    "NOTE: Prefix and suffix can be overlapping but they should not be equal to the entire string.\n",
    "\n",
    "Example 1:"
   ]
  },
  {
   "cell_type": "markdown",
   "id": "103e822e",
   "metadata": {},
   "source": [
    "Input: s = \"abab\"\n",
    "\n",
    "Output: 2\n",
    "\n",
    "Explanation: \"ab\" is the longest proper \n",
    "prefix and suffix. \n",
    "\n",
    "Example 2:\n",
    "\n",
    "Input: s = \"aaaa\"\n",
    "\n",
    "Output: 3\n",
    "\n",
    "Explanation: \"aaa\" is the longest proper \n",
    "prefix and suffix. "
   ]
  },
  {
   "cell_type": "code",
   "execution_count": 7,
   "id": "c163b482",
   "metadata": {},
   "outputs": [
    {
     "data": {
      "text/plain": [
       "2"
      ]
     },
     "execution_count": 7,
     "metadata": {},
     "output_type": "execute_result"
    }
   ],
   "source": [
    "# Python3 program to find length\n",
    "# of the longest prefix which\n",
    "# is also suffix\n",
    "def longestPrefixSuffix(s) :\n",
    "\tn = len(s)\n",
    "\t\n",
    "\tfor res in range(n // 2, 0, -1) :\n",
    "\t\t\n",
    "\t\t# Check for shorter lengths\n",
    "\t\t# of first half.\n",
    "\t\tprefix = s[0: res]\n",
    "\t\tsuffix = s[n - res: n]\n",
    "\t\t\n",
    "\t\tif (prefix == suffix) :\n",
    "\t\t\treturn res\n",
    "\t\t\t\n",
    "\n",
    "\t# if no prefix and suffix match\n",
    "\t# occurs\n",
    "\treturn 0\n",
    "\t\n",
    "\n",
    "\n",
    "\n",
    "s=\"aaaa\"\n",
    "longestPrefixSuffix(s)"
   ]
  },
  {
   "cell_type": "code",
   "execution_count": null,
   "id": "43252c3c",
   "metadata": {},
   "outputs": [],
   "source": []
  },
  {
   "cell_type": "code",
   "execution_count": null,
   "id": "cd15b408",
   "metadata": {},
   "outputs": [],
   "source": []
  }
 ],
 "metadata": {
  "kernelspec": {
   "display_name": "Python 3 (ipykernel)",
   "language": "python",
   "name": "python3"
  },
  "language_info": {
   "codemirror_mode": {
    "name": "ipython",
    "version": 3
   },
   "file_extension": ".py",
   "mimetype": "text/x-python",
   "name": "python",
   "nbconvert_exporter": "python",
   "pygments_lexer": "ipython3",
   "version": "3.9.12"
  }
 },
 "nbformat": 4,
 "nbformat_minor": 5
}
