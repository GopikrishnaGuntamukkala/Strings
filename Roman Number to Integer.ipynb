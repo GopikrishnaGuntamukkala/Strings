{
 "cells": [
  {
   "cell_type": "markdown",
   "id": "cc7b6e7c",
   "metadata": {},
   "source": [
    "# Given a string in roman no format (s)  your task is to convert it to an integer . Various symbols and their values are given below.\n",
    "I 1\n",
    "\n",
    "V 5\n",
    "\n",
    "X 10\n",
    "\n",
    "L 50\n",
    "\n",
    "C 100\n",
    "\n",
    "D 500\n",
    "\n",
    "M 1000"
   ]
  },
  {
   "cell_type": "markdown",
   "id": "081ff5d1",
   "metadata": {},
   "source": [
    "     Example 1:\n",
    "\n",
    "Input:\n",
    "\n",
    "s = V\n",
    "\n",
    "Output: 5\n",
    "\n",
    "    Example 2:\n",
    "\n",
    "Input:\n",
    "\n",
    "s = III \n",
    "\n",
    "Output: 3"
   ]
  },
  {
   "cell_type": "code",
   "execution_count": 3,
   "id": "49829305",
   "metadata": {},
   "outputs": [
    {
     "name": "stdout",
     "output_type": "stream",
     "text": [
      "Enter the roman from the user side : V\n"
     ]
    },
    {
     "data": {
      "text/plain": [
       "5"
      ]
     },
     "execution_count": 3,
     "metadata": {},
     "output_type": "execute_result"
    }
   ],
   "source": [
    "class Solution:\n",
    "    def romanToDecimal(self, S): \n",
    "        # code here\\\n",
    "        dic = {'M': 1000, 'D': 500, 'C':100, 'L':50,\n",
    "               'X':10, 'V':5, 'I':1}\n",
    "        \n",
    "        output = 0\n",
    "        num  = []\n",
    "        for i in S:\n",
    "            num.append(dic[i])\n",
    "        \n",
    "        if len(num) == 1:\n",
    "            return num[0]\n",
    "        else:\n",
    "            for i in range(len(num)-1):\n",
    "                if num[i] < num[i+1]:\n",
    "                    output -= num[i]\n",
    "                else:\n",
    "                    output += num[i]\n",
    "            \n",
    "            output += num[-1]\n",
    "        return output\n",
    "S=input(\"Enter the roman from the user side : \")\n",
    "obj=Solution()\n",
    "obj.romanToDecimal(S)"
   ]
  },
  {
   "cell_type": "code",
   "execution_count": null,
   "id": "bc046ac4",
   "metadata": {},
   "outputs": [],
   "source": []
  }
 ],
 "metadata": {
  "kernelspec": {
   "display_name": "Python 3 (ipykernel)",
   "language": "python",
   "name": "python3"
  },
  "language_info": {
   "codemirror_mode": {
    "name": "ipython",
    "version": 3
   },
   "file_extension": ".py",
   "mimetype": "text/x-python",
   "name": "python",
   "nbconvert_exporter": "python",
   "pygments_lexer": "ipython3",
   "version": "3.9.12"
  }
 },
 "nbformat": 4,
 "nbformat_minor": 5
}
