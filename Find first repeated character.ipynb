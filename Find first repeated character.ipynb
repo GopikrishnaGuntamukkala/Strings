{
 "cells": [
  {
   "cell_type": "markdown",
   "id": "868cbd10",
   "metadata": {},
   "source": [
    "# Given a string S. The task is to find the first repeated character in it. We need to find the character that occurs more than once and whose index of second occurrence is smallest. S contains only lowercase letters."
   ]
  },
  {
   "cell_type": "markdown",
   "id": "a195fd2f",
   "metadata": {},
   "source": [
    "Input: S=\"geeksforgeeks\"\n",
    " \n",
    "Output: e\n",
    "\n",
    "Explanation: 'e' repeats at third position.\n",
    " \n",
    "\n",
    "Input: S=\"hellogeeks\"\n",
    "\n",
    "Output: l\n",
    "\n",
    "Explanation: 'l' repeats at third position."
   ]
  },
  {
   "cell_type": "code",
   "execution_count": 1,
   "id": "f0718a82",
   "metadata": {},
   "outputs": [
    {
     "name": "stdout",
     "output_type": "stream",
     "text": [
      "Enter the string : gopi krishna\n"
     ]
    },
    {
     "data": {
      "text/plain": [
       "'i'"
      ]
     },
     "execution_count": 1,
     "metadata": {},
     "output_type": "execute_result"
    }
   ],
   "source": [
    "class Solution:\n",
    "    def firstRepChar(self, s):\n",
    "        # code here\n",
    "        d=set()\n",
    "        for i in s:\n",
    "            if i in d:\n",
    "                return i\n",
    "            else:\n",
    "                d.add(i)\n",
    "        return -1\n",
    "s=input(\"Enter the string : \")\n",
    "x=Solution()\n",
    "x.firstRepChar(s)\n",
    "        "
   ]
  },
  {
   "cell_type": "code",
   "execution_count": null,
   "id": "9b2bde0f",
   "metadata": {},
   "outputs": [],
   "source": []
  }
 ],
 "metadata": {
  "kernelspec": {
   "display_name": "Python 3 (ipykernel)",
   "language": "python",
   "name": "python3"
  },
  "language_info": {
   "codemirror_mode": {
    "name": "ipython",
    "version": 3
   },
   "file_extension": ".py",
   "mimetype": "text/x-python",
   "name": "python",
   "nbconvert_exporter": "python",
   "pygments_lexer": "ipython3",
   "version": "3.9.12"
  }
 },
 "nbformat": 4,
 "nbformat_minor": 5
}
