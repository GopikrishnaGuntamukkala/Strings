{
 "cells": [
  {
   "cell_type": "markdown",
   "id": "02d0a3b1",
   "metadata": {},
   "source": [
    "# Given a array of N strings, find the longest common prefix among all strings present in the array.\n",
    "\n"
   ]
  },
  {
   "cell_type": "markdown",
   "id": "e872cb82",
   "metadata": {},
   "source": [
    "Input:\n",
    "N = 4\n",
    "\n",
    "arr[] = {geeksforgeeks, geeks, geek,\n",
    "         geezer}\n",
    "\n",
    "Output: gee\n",
    "\n",
    "Explanation: \"gee\" is the longest common\n",
    "prefix in all the given strings.\n",
    "\n",
    "Input: \n",
    "N = 2\n",
    "\n",
    "arr[] = {hello, world}\n",
    "\n",
    "Output: -1\n",
    "\n",
    "Explanation: There's no common prefix\n",
    "in the given strings."
   ]
  },
  {
   "cell_type": "code",
   "execution_count": 4,
   "id": "64ac200a",
   "metadata": {},
   "outputs": [
    {
     "data": {
      "text/plain": [
       "'gee'"
      ]
     },
     "execution_count": 4,
     "metadata": {},
     "output_type": "execute_result"
    }
   ],
   "source": [
    "class Solution:\n",
    "    def longestCommonPrefix(self, arr, n):\n",
    "        # code here\n",
    "        ans = []\n",
    "        arr.sort()\n",
    "        first = arr[0]\n",
    "        last = arr[-1]\n",
    "        for i in range(len(first)):\n",
    "            if first[i] == last[i]:\n",
    "                ans.append(first[i])\n",
    "            else:\n",
    "                break\n",
    "        if ans:\n",
    "            return(\"\".join(ans))\n",
    "        return -1\n",
    "arr = [\"geeksforgeeks\", \"geeks\", \"geek\", \"geezer\"]\n",
    "n=4\n",
    "x=Solution()\n",
    "x.longestCommonPrefix(arr, n)"
   ]
  },
  {
   "cell_type": "code",
   "execution_count": null,
   "id": "77fcb46a",
   "metadata": {},
   "outputs": [],
   "source": []
  }
 ],
 "metadata": {
  "kernelspec": {
   "display_name": "Python 3 (ipykernel)",
   "language": "python",
   "name": "python3"
  },
  "language_info": {
   "codemirror_mode": {
    "name": "ipython",
    "version": 3
   },
   "file_extension": ".py",
   "mimetype": "text/x-python",
   "name": "python",
   "nbconvert_exporter": "python",
   "pygments_lexer": "ipython3",
   "version": "3.9.12"
  }
 },
 "nbformat": 4,
 "nbformat_minor": 5
}
