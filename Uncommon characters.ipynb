{
 "cells": [
  {
   "cell_type": "markdown",
   "id": "933262df",
   "metadata": {},
   "source": [
    "Given two strings A and B. Find the characters that are not common in the two strings. \n",
    "\n"
   ]
  },
  {
   "cell_type": "markdown",
   "id": "86f3d561",
   "metadata": {},
   "source": [
    "A = geeksforgeeks\n",
    "\n",
    "B = geeksquiz\n",
    "\n",
    "Output: fioqruz"
   ]
  },
  {
   "cell_type": "code",
   "execution_count": 1,
   "id": "2cf51ca8",
   "metadata": {},
   "outputs": [
    {
     "data": {
      "text/plain": [
       "'fioqruz'"
      ]
     },
     "execution_count": 1,
     "metadata": {},
     "output_type": "execute_result"
    }
   ],
   "source": [
    "\n",
    "class Solution:\n",
    "    def UncommonChars(self,A, B):\n",
    "        #code here\n",
    "        if A==B:\n",
    "            return -1\n",
    "        ans=\"\"\n",
    "        for i in A:\n",
    "            if i not in B:\n",
    "                ans+=i\n",
    "           \n",
    "        for j in B:\n",
    "            if j not in A:\n",
    "                ans+=j\n",
    "                #res+=i\n",
    "        b=set(ans)\n",
    "        c=list(b)\n",
    "        a=sorted(c)\n",
    "        if len(ans)==0:\n",
    "            return -1\n",
    "        return (''.join(a))\n",
    "\n",
    "A = \"geeksforgeeks\"\n",
    "B = \"geeksquiz\"\n",
    "x=Solution()\n",
    "x.UncommonChars(A, B)"
   ]
  },
  {
   "cell_type": "code",
   "execution_count": null,
   "id": "d0fcf24d",
   "metadata": {},
   "outputs": [],
   "source": []
  }
 ],
 "metadata": {
  "kernelspec": {
   "display_name": "Python 3 (ipykernel)",
   "language": "python",
   "name": "python3"
  },
  "language_info": {
   "codemirror_mode": {
    "name": "ipython",
    "version": 3
   },
   "file_extension": ".py",
   "mimetype": "text/x-python",
   "name": "python",
   "nbconvert_exporter": "python",
   "pygments_lexer": "ipython3",
   "version": "3.9.12"
  }
 },
 "nbformat": 4,
 "nbformat_minor": 5
}
