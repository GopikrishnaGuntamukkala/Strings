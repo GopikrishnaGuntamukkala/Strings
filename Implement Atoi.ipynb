{
 "cells": [
  {
   "cell_type": "markdown",
   "id": "73998482",
   "metadata": {},
   "source": [
    "# Your task  is to implement the function atoi. The function takes a string(str) as argument and converts it to an integer and returns it.\n",
    "\n",
    "Note: You are not allowed to use inbuilt function."
   ]
  },
  {
   "cell_type": "markdown",
   "id": "95787821",
   "metadata": {},
   "source": [
    "Input:\n",
    "\n",
    "str = 123\n",
    "\n",
    "Output: 123\n",
    "\n",
    "Input:\n",
    "\n",
    "str = 21a\n",
    "\n",
    "Output: -1\n",
    "\n",
    "Explanation: Output is -1 as all\n",
    "characters are not digit only."
   ]
  },
  {
   "cell_type": "code",
   "execution_count": 1,
   "id": "150746a7",
   "metadata": {},
   "outputs": [
    {
     "name": "stdout",
     "output_type": "stream",
     "text": [
      "enter the char in string from user side : 21a\n"
     ]
    },
    {
     "data": {
      "text/plain": [
       "-1"
      ]
     },
     "execution_count": 1,
     "metadata": {},
     "output_type": "execute_result"
    }
   ],
   "source": [
    "class Solution:\n",
    "    # your task is to complete this function\n",
    "    # function should return an integer\n",
    "    def atoi(self,string):\n",
    "        # Code heres\n",
    "        s=\"\"\n",
    "        for char in string:\n",
    "            if char==\"-\":\n",
    "                s+=char\n",
    "            if char=='-' and string[1]=='-':\n",
    "                return -1\n",
    "            if (char>='0' and char<='9'):\n",
    "                s+=char\n",
    "        if s!=string:\n",
    "            return -1\n",
    "        return s  \n",
    "string=input(\"enter the char in string from user side : \")\n",
    "X=Solution()\n",
    "X.atoi(string)"
   ]
  },
  {
   "cell_type": "code",
   "execution_count": null,
   "id": "bb828d68",
   "metadata": {},
   "outputs": [],
   "source": []
  }
 ],
 "metadata": {
  "kernelspec": {
   "display_name": "Python 3 (ipykernel)",
   "language": "python",
   "name": "python3"
  },
  "language_info": {
   "codemirror_mode": {
    "name": "ipython",
    "version": 3
   },
   "file_extension": ".py",
   "mimetype": "text/x-python",
   "name": "python",
   "nbconvert_exporter": "python",
   "pygments_lexer": "ipython3",
   "version": "3.9.12"
  }
 },
 "nbformat": 4,
 "nbformat_minor": 5
}
