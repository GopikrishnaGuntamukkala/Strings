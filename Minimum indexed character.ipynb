{
 "cells": [
  {
   "cell_type": "markdown",
   "id": "05f75f88",
   "metadata": {},
   "source": [
    "# Given a string str and another string patt. Find the minimum index of the character in str that is also present in patt."
   ]
  },
  {
   "cell_type": "markdown",
   "id": "117c08c1",
   "metadata": {},
   "source": [
    "str = geeksforgeeks\n",
    "\n",
    "patt = set\n",
    "\n",
    "Output: 1\n",
    "\n",
    "Explanation: e is the character which is\n",
    "present in given str \"geeksforgeeks\"\n",
    "and is also presen in patt \"set\". Minimum\n",
    "index of e is 1. "
   ]
  },
  {
   "cell_type": "code",
   "execution_count": 2,
   "id": "5d5f47b5",
   "metadata": {},
   "outputs": [
    {
     "data": {
      "text/plain": [
       "1"
      ]
     },
     "execution_count": 2,
     "metadata": {},
     "output_type": "execute_result"
    }
   ],
   "source": [
    "class Solution:\n",
    "    #Function to find the minimum indexed character.\n",
    "    def minIndexChar(self,Str, pat): \n",
    "        #code here\n",
    "        for i in range(len(Str)):\n",
    "            if Str[i] in pat:\n",
    "                return i\n",
    "        return -1\n",
    "\n",
    "Str = \"geeksforgeeks\"\n",
    "pat =\"set\"\n",
    "\n",
    "obj=Solution()\n",
    "obj.minIndexChar(Str, pat)"
   ]
  },
  {
   "cell_type": "code",
   "execution_count": null,
   "id": "d01878eb",
   "metadata": {},
   "outputs": [],
   "source": []
  }
 ],
 "metadata": {
  "kernelspec": {
   "display_name": "Python 3 (ipykernel)",
   "language": "python",
   "name": "python3"
  },
  "language_info": {
   "codemirror_mode": {
    "name": "ipython",
    "version": 3
   },
   "file_extension": ".py",
   "mimetype": "text/x-python",
   "name": "python",
   "nbconvert_exporter": "python",
   "pygments_lexer": "ipython3",
   "version": "3.9.12"
  }
 },
 "nbformat": 4,
 "nbformat_minor": 5
}
