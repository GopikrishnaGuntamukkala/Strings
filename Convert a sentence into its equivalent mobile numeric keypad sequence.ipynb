{
 "cells": [
  {
   "cell_type": "markdown",
   "id": "77dbbfe0",
   "metadata": {},
   "source": [
    "Given a sentence in the form of a string in uppercase, convert it into its equivalent mobile numeric keypad sequence.\n",
    "\n"
   ]
  },
  {
   "cell_type": "markdown",
   "id": "64991ae8",
   "metadata": {},
   "source": [
    "Input:\n",
    "S = \"GFG\"\n",
    "\n",
    "Output: 43334\n",
    "\n",
    "Explanation: For 'G' press '4' one time.\n",
    "For 'F' press '3' three times.\n",
    "\n",
    "Example 2:\n",
    "\n",
    "Input:\n",
    "S = \"HEY U\"\n",
    "\n",
    "Output: 4433999088\n",
    "\n",
    "Explanation: For 'H' press '4' two times.\n",
    "â€‹For 'E' press '3' two times. For 'Y' press '9' \n",
    "three times. For white space press '0' one time.\n",
    "For 'U' press '8' two times."
   ]
  },
  {
   "cell_type": "code",
   "execution_count": 1,
   "id": "5767b6b8",
   "metadata": {},
   "outputs": [
    {
     "data": {
      "text/plain": [
       "'4433999088'"
      ]
     },
     "execution_count": 1,
     "metadata": {},
     "output_type": "execute_result"
    }
   ],
   "source": [
    "class Solution:\n",
    "    def printSequence(self,S):\n",
    "        # code here\n",
    "        S.upper()\n",
    "        x =len(S)\n",
    "        num = \"\"\n",
    "        i = 0\n",
    "        numeric_dic = {\"A\":2,\"B\":22,\"C\":222,\"D\":3,\"E\":33,\"F\":333,\"G\":4,\"H\":44,\"I\":444,\"J\":5,\"K\":55,\"L\":555,\"M\":6,\"N\":66,\"O\":666,\"P\":7,\"Q\":77,\"R\":777,\"S\":7777,\"T\":8,\"U\":88,\"V\":888,\"W\":9,\"X\":99,\"Y\":999,\"Z\":9999,\" \":0}\n",
    "        for i in range(x):\n",
    "            if i<x:\n",
    "                num = num+str(numeric_dic[S[i]])\n",
    "                i = i+1\n",
    "        return num\n",
    "S=\"HEY U\"\n",
    "obj=Solution()\n",
    "obj.printSequence(S)\n",
    "    "
   ]
  },
  {
   "cell_type": "code",
   "execution_count": null,
   "id": "07fc06b0",
   "metadata": {},
   "outputs": [],
   "source": []
  }
 ],
 "metadata": {
  "kernelspec": {
   "display_name": "Python 3 (ipykernel)",
   "language": "python",
   "name": "python3"
  },
  "language_info": {
   "codemirror_mode": {
    "name": "ipython",
    "version": 3
   },
   "file_extension": ".py",
   "mimetype": "text/x-python",
   "name": "python",
   "nbconvert_exporter": "python",
   "pygments_lexer": "ipython3",
   "version": "3.9.12"
  }
 },
 "nbformat": 4,
 "nbformat_minor": 5
}
