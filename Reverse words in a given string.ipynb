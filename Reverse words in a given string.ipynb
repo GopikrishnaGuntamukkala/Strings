{
 "cells": [
  {
   "cell_type": "markdown",
   "id": "9d070baa",
   "metadata": {},
   "source": [
    "# Given a String S, reverse the string without reversing its individual words. Words are separated by dots."
   ]
  },
  {
   "cell_type": "markdown",
   "id": "54d5b0f3",
   "metadata": {},
   "source": [
    "S = i.like.this.program.very.much\n",
    "\n",
    "Output: much.very.program.this.like.i\n",
    "\n",
    "Explanation: After reversing the whole\n",
    "string(not individual words), the input\n",
    "string becomes\n",
    "\n",
    "much.very.program.this.like.i"
   ]
  },
  {
   "cell_type": "code",
   "execution_count": 1,
   "id": "44ed587b",
   "metadata": {},
   "outputs": [
    {
     "name": "stdout",
     "output_type": "stream",
     "text": [
      "Enter the string from the user side : i.like.this.program.very.much\n"
     ]
    },
    {
     "data": {
      "text/plain": [
       "'much.very.program.this.like.i'"
      ]
     },
     "execution_count": 1,
     "metadata": {},
     "output_type": "execute_result"
    }
   ],
   "source": [
    "class Solution:\n",
    "    \n",
    "    #Function to reverse words in a given string.\n",
    "    def reverseWords(self,S):\n",
    "        \n",
    "        \n",
    "        s = S.split(\".\")\n",
    "        y = s[::-1]\n",
    "        return \".\".join(y)\n",
    "S=input(\"Enter the string from the user side : \")\n",
    "obj=Solution()\n",
    "obj.reverseWords(S)"
   ]
  },
  {
   "cell_type": "code",
   "execution_count": null,
   "id": "23dd7878",
   "metadata": {},
   "outputs": [],
   "source": []
  }
 ],
 "metadata": {
  "kernelspec": {
   "display_name": "Python 3 (ipykernel)",
   "language": "python",
   "name": "python3"
  },
  "language_info": {
   "codemirror_mode": {
    "name": "ipython",
    "version": 3
   },
   "file_extension": ".py",
   "mimetype": "text/x-python",
   "name": "python",
   "nbconvert_exporter": "python",
   "pygments_lexer": "ipython3",
   "version": "3.9.12"
  }
 },
 "nbformat": 4,
 "nbformat_minor": 5
}
