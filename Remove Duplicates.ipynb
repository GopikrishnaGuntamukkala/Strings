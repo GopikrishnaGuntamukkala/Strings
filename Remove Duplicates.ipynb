{
 "cells": [
  {
   "cell_type": "markdown",
   "id": "65db1abf",
   "metadata": {},
   "source": [
    "# Given a string without spaces, the task is to remove duplicates from it.\n",
    "\n",
    "Note: The original order of characters must be kept the same. "
   ]
  },
  {
   "cell_type": "markdown",
   "id": "a4096d27",
   "metadata": {},
   "source": [
    "Input: S = \"zvvo\"\n",
    "\n",
    "Output: \"zvo\"\n",
    "\n",
    "Explanation: Only keep the first\n",
    "occurrence\n",
    "\n",
    "\n",
    "Input: S = \"gfg\"\n",
    "\n",
    "Output: gf\n",
    "\n",
    "Explanation: Only keep the first\n",
    "occurrence"
   ]
  },
  {
   "cell_type": "code",
   "execution_count": 4,
   "id": "fb0c37ee",
   "metadata": {},
   "outputs": [
    {
     "name": "stdout",
     "output_type": "stream",
     "text": [
      "Enter the string from the user side : gopiii\n"
     ]
    },
    {
     "data": {
      "text/plain": [
       "'gopi'"
      ]
     },
     "execution_count": 4,
     "metadata": {},
     "output_type": "execute_result"
    }
   ],
   "source": [
    "class Solution:\n",
    "\tdef removeDups(self, S):\n",
    "\t\t# code \n",
    "\t\tstring=\"\"\n",
    "\t\tfor i in S:\n",
    "\t\t    if i not in string:\n",
    "\t\t        string+=i\n",
    "\t\treturn string\n",
    "S=input(\"Enter the string from the user side : \")\n",
    "obj=Solution()\n",
    "obj.removeDups(S)"
   ]
  },
  {
   "cell_type": "code",
   "execution_count": null,
   "id": "039a1ae3",
   "metadata": {},
   "outputs": [],
   "source": []
  }
 ],
 "metadata": {
  "kernelspec": {
   "display_name": "Python 3 (ipykernel)",
   "language": "python",
   "name": "python3"
  },
  "language_info": {
   "codemirror_mode": {
    "name": "ipython",
    "version": 3
   },
   "file_extension": ".py",
   "mimetype": "text/x-python",
   "name": "python",
   "nbconvert_exporter": "python",
   "pygments_lexer": "ipython3",
   "version": "3.9.12"
  }
 },
 "nbformat": 4,
 "nbformat_minor": 5
}
