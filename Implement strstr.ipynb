{
 "cells": [
  {
   "cell_type": "markdown",
   "id": "6857fdb3",
   "metadata": {},
   "source": [
    "# Your task is to implement the function strstr. The function takes two strings as arguments (s,x) and  locates the occurrence of the string x in the string s. The function returns and integer denoting the first occurrence of the string x in s (0 based indexing).\n",
    "\n",
    "Note: You are not allowed to use inbuilt function.\n",
    "\n",
    " "
   ]
  },
  {
   "cell_type": "markdown",
   "id": "86408115",
   "metadata": {},
   "source": [
    "s = GeeksForGeeks, x = Fr\n",
    "\n",
    "Output: -1\n",
    "\n",
    "Explanation: Fr is not present in the\n",
    "string GeeksForGeeks as substring.\n",
    " \n",
    "\n",
    "\n",
    "Input:\n",
    "\n",
    "s = GeeksForGeeks, x = For\n",
    "\n",
    "Output: 5\n",
    "\n",
    "Explanation: For is present as substring\n",
    "in GeeksForGeeks from index 5 (0 based\n",
    "indexing)."
   ]
  },
  {
   "cell_type": "code",
   "execution_count": 1,
   "id": "acaaccf2",
   "metadata": {},
   "outputs": [
    {
     "name": "stdout",
     "output_type": "stream",
     "text": [
      "Enter the string from user1 : gopi\n",
      "Enter the string from user2 : i\n"
     ]
    },
    {
     "data": {
      "text/plain": [
       "3"
      ]
     },
     "execution_count": 1,
     "metadata": {},
     "output_type": "execute_result"
    }
   ],
   "source": [
    "def strstr(s,x):\n",
    "    #code here\n",
    "    if x in s:\n",
    "        return s.index(x)\n",
    "    return -1\n",
    "s=input(\"Enter the string from user1 : \")\n",
    "x=input(\"Enter the string from user2 : \")\n",
    "strstr(s, x)"
   ]
  },
  {
   "cell_type": "code",
   "execution_count": null,
   "id": "59920195",
   "metadata": {},
   "outputs": [],
   "source": []
  }
 ],
 "metadata": {
  "kernelspec": {
   "display_name": "Python 3 (ipykernel)",
   "language": "python",
   "name": "python3"
  },
  "language_info": {
   "codemirror_mode": {
    "name": "ipython",
    "version": 3
   },
   "file_extension": ".py",
   "mimetype": "text/x-python",
   "name": "python",
   "nbconvert_exporter": "python",
   "pygments_lexer": "ipython3",
   "version": "3.9.12"
  }
 },
 "nbformat": 4,
 "nbformat_minor": 5
}
