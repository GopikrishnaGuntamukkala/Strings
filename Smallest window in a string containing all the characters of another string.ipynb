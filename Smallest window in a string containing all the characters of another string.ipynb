{
 "cells": [
  {
   "cell_type": "markdown",
   "id": "72413643",
   "metadata": {},
   "source": [
    "# Given two strings S and P. Find the smallest window in the string S consisting of all the characters(including duplicates) of the string P.  Return \"-1\" in case there is no such window present. In case there are multiple such windows of same length, return the one with the least starting index. \n",
    "\n"
   ]
  },
  {
   "cell_type": "markdown",
   "id": "1cc24d7b",
   "metadata": {},
   "source": [
    "S = \"timetopractice\"\n",
    "\n",
    "P = \"toc\"\n",
    "\n",
    "Output: \n",
    "toprac\n",
    "\n",
    "Explanation: \"toprac\" is the smallest\n",
    "substring in which \"toc\" can be found.\n",
    "\n",
    "Example 2:\n",
    "\n",
    "Input:\n",
    "\n",
    "S = \"zoomlazapzo\"\n",
    "\n",
    "P = \"oza\"\n",
    "\n",
    "Output: \n",
    "apzo\n",
    "\n",
    "Explanation: \"apzo\" is the smallest \n",
    "substring in which \"oza\" can be found.\n"
   ]
  },
  {
   "cell_type": "code",
   "execution_count": 1,
   "id": "fcb0201a",
   "metadata": {},
   "outputs": [
    {
     "data": {
      "text/plain": [
       "'toprac'"
      ]
     },
     "execution_count": 1,
     "metadata": {},
     "output_type": "execute_result"
    }
   ],
   "source": [
    "class Solution:\n",
    "    def smallestWindow(self, s, p):\n",
    "        #code here\n",
    "        ans=s\n",
    "        freq={}\n",
    "        for i in p:\n",
    "            if i in freq:\n",
    "                freq[i]+=1\n",
    "            else:\n",
    "                freq[i]=1\n",
    "        ct=0\n",
    "        i=0\n",
    "        j=0\n",
    "        new={}\n",
    "        while j<len(s):\n",
    "            \n",
    "            if s[j] in new:\n",
    "                new[s[j]]+=1\n",
    "            else:\n",
    "                new[s[j]]=1\n",
    "            if s[j] in freq:\n",
    "                    if freq[s[j]]>=new[s[j]]:\n",
    "                        ct+=1\n",
    "            if ct==len(p):\n",
    "                while 1:\n",
    "                    if s[i] not in freq:\n",
    "                        i+=1\n",
    "                    elif new[s[i]]>freq[s[i]]:\n",
    "                        new[s[i]]-=1\n",
    "                        i+=1\n",
    "                    else:\n",
    "                        break\n",
    "                if len(s[i:j+1])<len(ans):\n",
    "                    ans=s[i:j+1]\n",
    "            j+=1\n",
    "        if ans==s:\n",
    "            return -1\n",
    "        return ans\n",
    "s = \"timetopractice\"\n",
    "p = \"toc\"\n",
    "x=Solution()\n",
    "x.smallestWindow(s, p)"
   ]
  }
 ],
 "metadata": {
  "kernelspec": {
   "display_name": "Python 3 (ipykernel)",
   "language": "python",
   "name": "python3"
  },
  "language_info": {
   "codemirror_mode": {
    "name": "ipython",
    "version": 3
   },
   "file_extension": ".py",
   "mimetype": "text/x-python",
   "name": "python",
   "nbconvert_exporter": "python",
   "pygments_lexer": "ipython3",
   "version": "3.9.12"
  }
 },
 "nbformat": 4,
 "nbformat_minor": 5
}
