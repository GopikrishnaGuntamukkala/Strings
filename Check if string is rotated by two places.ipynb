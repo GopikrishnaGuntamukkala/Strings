{
 "cells": [
  {
   "cell_type": "markdown",
   "id": "9c8720a5",
   "metadata": {},
   "source": [
    "# Given two strings a and b. The task is to find if the string 'b' can be obtained by rotating another string 'a' by exactly 2 places.\n"
   ]
  },
  {
   "cell_type": "markdown",
   "id": "27423673",
   "metadata": {},
   "source": [
    "Input:\n",
    "\n",
    "a = amazon\n",
    "\n",
    "b = azonam\n",
    "\n",
    "Output: 1\n",
    "\n",
    "Explanation: amazon can be rotated anti\n",
    "clockwise by two places, which will make\n",
    "it as azonam.\n",
    "\n",
    "\n",
    "Input:\n",
    "\n",
    "a = geeksforgeeks\n",
    "\n",
    "b = geeksgeeksfor\n",
    "\n",
    "Output: 0\n",
    "\n",
    "Explanation: If we rotate geeksforgeeks by\n",
    "two place in any direction , we won't get\n",
    "geeksgeeksfor."
   ]
  },
  {
   "cell_type": "code",
   "execution_count": 3,
   "id": "23beb1b3",
   "metadata": {},
   "outputs": [
    {
     "data": {
      "text/plain": [
       "1"
      ]
     },
     "execution_count": 3,
     "metadata": {},
     "output_type": "execute_result"
    }
   ],
   "source": [
    "class Solution:\n",
    "    #Function to check if a string can be obtained by rotating\n",
    "    #another string by exactly 2 places.\n",
    "    def isRotated(self,str1,str2):\n",
    "        #code here\n",
    "        strout1 = str1[2:]+str1[0:2]\n",
    "        strout2 = str1[len(str1)-2:]+str1[0:-2]\n",
    "        return 1 if strout1 == str2 or strout2 == str2 else 0\n",
    "       \n",
    "str1='amazon'\n",
    "str2='azonam'\n",
    "x=Solution()\n",
    "x.isRotated(str1,str2)"
   ]
  },
  {
   "cell_type": "code",
   "execution_count": null,
   "id": "d59c9c8b",
   "metadata": {},
   "outputs": [],
   "source": []
  }
 ],
 "metadata": {
  "kernelspec": {
   "display_name": "Python 3 (ipykernel)",
   "language": "python",
   "name": "python3"
  },
  "language_info": {
   "codemirror_mode": {
    "name": "ipython",
    "version": 3
   },
   "file_extension": ".py",
   "mimetype": "text/x-python",
   "name": "python",
   "nbconvert_exporter": "python",
   "pygments_lexer": "ipython3",
   "version": "3.9.12"
  }
 },
 "nbformat": 4,
 "nbformat_minor": 5
}
