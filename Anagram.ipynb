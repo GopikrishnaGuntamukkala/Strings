{
 "cells": [
  {
   "cell_type": "markdown",
   "id": "9b59c313",
   "metadata": {},
   "source": [
    "# Given two stringsaandbconsisting of lowercase characters. The task is to check whether two given strings are an anagram of each other or not. \n",
    "An anagram of a string is another string that contains the same characters, only the order of characters can be different. For example, act and tac are an anagram of each other.\n",
    "\n"
   ]
  },
  {
   "cell_type": "markdown",
   "id": "f32ba3ab",
   "metadata": {},
   "source": [
    "a = geeksforgeeks\n",
    "\n",
    "b = forgeeksgeeks\n",
    "\n",
    "Output: YES\n",
    "\n",
    "Explanation: Both the string have samecharacters with\n",
    "        same frequency. So, both are anagrams."
   ]
  },
  {
   "cell_type": "code",
   "execution_count": 4,
   "id": "17f23947",
   "metadata": {},
   "outputs": [
    {
     "data": {
      "text/plain": [
       "'Given inputs are anagrams....'"
      ]
     },
     "execution_count": 4,
     "metadata": {},
     "output_type": "execute_result"
    }
   ],
   "source": [
    "class Solution:\n",
    "    \n",
    "    #Function is to check whether two strings are anagram of each other or not.\n",
    "    def isAnagram(self,a,b):\n",
    "        #code here\n",
    "        if (len(a))!=(len(b)):\n",
    "            return False\n",
    "        a=sorted(a)\n",
    "        b=sorted(b)\n",
    "        if a==b:\n",
    "            return \"Given inputs are anagrams....\"\n",
    "        else:\n",
    "            return \"Given inputs are  not an anagrams....\"\n",
    "a=\"gopi\"\n",
    "b=\"ipog\"\n",
    "obj=Solution()\n",
    "obj.isAnagram(a, b)\n"
   ]
  },
  {
   "cell_type": "code",
   "execution_count": null,
   "id": "a7e126aa",
   "metadata": {},
   "outputs": [],
   "source": []
  }
 ],
 "metadata": {
  "kernelspec": {
   "display_name": "Python 3 (ipykernel)",
   "language": "python",
   "name": "python3"
  },
  "language_info": {
   "codemirror_mode": {
    "name": "ipython",
    "version": 3
   },
   "file_extension": ".py",
   "mimetype": "text/x-python",
   "name": "python",
   "nbconvert_exporter": "python",
   "pygments_lexer": "ipython3",
   "version": "3.9.12"
  }
 },
 "nbformat": 4,
 "nbformat_minor": 5
}
