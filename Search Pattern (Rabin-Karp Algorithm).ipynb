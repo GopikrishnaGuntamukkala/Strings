{
 "cells": [
  {
   "cell_type": "markdown",
   "id": "ff8f7a8c",
   "metadata": {},
   "source": [
    "# Given two strings, one is a text string and other is a pattern string. The task is to print the indexes of all the occurences of pattern string in the text string. For printing, Starting Index of a string should be taken as 1."
   ]
  },
  {
   "cell_type": "markdown",
   "id": "158e1239",
   "metadata": {},
   "source": [
    "Input:\n",
    "S = \"batmanandrobinarebat\"\n",
    "\n",
    "pat = \"bat\"\n",
    "\n",
    "Output: 1 18\n",
    "\n",
    "Explanation: The string \"bat\" occurs twice\n",
    "in S, one starts are index 1 and the other\n",
    "at index 18. \n",
    "\n",
    "\n",
    "Input: \n",
    "S = \"abesdu\"\n",
    "\n",
    "pat = \"edu\"\n",
    "\n",
    "Output: -1\n",
    "\n",
    "Explanation: There's not substring \"edu\"\n",
    "present in S.\n"
   ]
  },
  {
   "cell_type": "code",
   "execution_count": 3,
   "id": "e77457c2",
   "metadata": {},
   "outputs": [
    {
     "data": {
      "text/plain": [
       "[1, 18]"
      ]
     },
     "execution_count": 3,
     "metadata": {},
     "output_type": "execute_result"
    }
   ],
   "source": [
    "class Solution:\n",
    "    def search(self, patt, s):\n",
    "       # code here\n",
    "        lst=[]\n",
    "        kk=len(s)-len(patt)\n",
    "        for i in range(kk+1):\n",
    "            dd=i\n",
    "            count=0\n",
    "            for j in range(len(patt)):\n",
    "               # print(\"hi\")\n",
    "               # print(patt[j]+\"==\"+s[dd])\n",
    "                if(patt[j]==s[dd]):\n",
    "                    count+=1\n",
    "                    dd+=1\n",
    "                else:\n",
    "                    break\n",
    "            if(count==len(patt)):\n",
    "                lst.append(i+1)\n",
    "                   \n",
    "       # print(lst)\n",
    "        if(len(lst)==0):\n",
    "            lst.append(-1)\n",
    "        return lst\n",
    "    \n",
    "\n",
    "s = \"batmanandrobinarebat\"\n",
    "patt = \"bat\"\n",
    "obj=Solution()\n",
    "obj.search(patt, s)\n"
   ]
  },
  {
   "cell_type": "code",
   "execution_count": null,
   "id": "b4cd4208",
   "metadata": {},
   "outputs": [],
   "source": []
  }
 ],
 "metadata": {
  "kernelspec": {
   "display_name": "Python 3 (ipykernel)",
   "language": "python",
   "name": "python3"
  },
  "language_info": {
   "codemirror_mode": {
    "name": "ipython",
    "version": 3
   },
   "file_extension": ".py",
   "mimetype": "text/x-python",
   "name": "python",
   "nbconvert_exporter": "python",
   "pygments_lexer": "ipython3",
   "version": "3.9.12"
  }
 },
 "nbformat": 4,
 "nbformat_minor": 5
}
